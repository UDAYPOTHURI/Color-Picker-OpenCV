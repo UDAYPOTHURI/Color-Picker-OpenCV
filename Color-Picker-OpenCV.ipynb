{
 "cells": [
  {
   "cell_type": "code",
   "execution_count": 11,
   "metadata": {},
   "outputs": [],
   "source": [
    "import cv2 # This imports the OpenCV library, which is used for image and video processing.\n",
    "import numpy as np # This imports the NumPy library, which is used for working with arrays and matrices."
   ]
  },
  {
   "cell_type": "code",
   "execution_count": 12,
   "metadata": {},
   "outputs": [],
   "source": [
    "r,g,b=0,0,0 # The variables r, g, and b are created and assigned the value 0. These variables can represent the red, green, and blue components of a color in the RGB color model."
   ]
  },
  {
   "cell_type": "code",
   "execution_count": 13,
   "metadata": {},
   "outputs": [],
   "source": [
    "cv2.namedWindow(\"blac\") # This line of code creates a named window with the name “blac” where images can be displayed"
   ]
  },
  {
   "cell_type": "code",
   "execution_count": 14,
   "metadata": {},
   "outputs": [],
   "source": [
    "def rc(c):\n",
    "    global r\n",
    "    r=cv2.getTrackbarPos(\"R\",\"blac\")\n",
    "# This function, named 'rc', takes one argument 'c'. Inside the function, the global variable 'r' is accessed. The value of 'r' is set to the current position of the trackbar with the name \"R\" in the window named \"blac\" using the cv2.getTrackbarPos() function from the OpenCV library."
   ]
  },
  {
   "cell_type": "code",
   "execution_count": 15,
   "metadata": {},
   "outputs": [],
   "source": [
    "def gc(c):\n",
    "    global g\n",
    "    g=cv2.getTrackbarPos(\"G\",\"blac\")\n",
    "# This function, named 'gc', takes one argument 'c'. Inside the function, the global variable 'g' is accessed. The value of 'g' is set to the current position of the trackbar with the name \"G\" in the window named \"blac\" using the cv2.getTrackbarPos() function from the OpenCV library."
   ]
  },
  {
   "cell_type": "code",
   "execution_count": 16,
   "metadata": {},
   "outputs": [],
   "source": [
    "def bc(c):\n",
    "    global b\n",
    "    b=cv2.getTrackbarPos(\"B\",\"blac\")\n",
    "# This function, named 'bc', takes one argument 'c'. Inside the function, the global variable 'b' is accessed. The value of 'b' is set to the current position of the trackbar with the name \"B\" in the window named \"blac\" using the cv2.getTrackbarPos() function from the OpenCV library."
   ]
  },
  {
   "cell_type": "code",
   "execution_count": 17,
   "metadata": {},
   "outputs": [],
   "source": [
    "cv2.createTrackbar(\"R\", \"blac\", 0, 255, rc) # This creates a trackbar with the label \"R\" in the window named \"blac\" with a range of 0 to 255 and an initial value of 0. The callback function `rc` is called whenever the trackbar position is changed.\n",
    "cv2.createTrackbar(\"G\", \"blac\", 0, 255, gc) # This creates a trackbar with the label \"G\" in the window named \"blac\" with a range of 0 to 255 and an initial value of 0. The callback function `gc` is called whenever the trackbar position is changed.\n",
    "cv2.createTrackbar(\"B\", \"blac\", 0, 255, bc) # This creates a trackbar with the label \"B\" in the window named \"blac\" with a range of 0 to 255 and an initial value of 0. The callback function `bc` is called whenever the trackbar position is changed.\n"
   ]
  },
  {
   "cell_type": "code",
   "execution_count": 18,
   "metadata": {},
   "outputs": [],
   "source": [
    "while True:\n",
    "    blac = np.zeros((300, 500, 3), dtype=np.uint8) # This creates a black image with a height of 300 pixels and a width of 500 pixels.\n",
    "    sr = \"r:\" + str(r) # This creates a string with the value of the variable `r`.\n",
    "    sg = \"g:\" + str(g) # This creates a string with the value of the variable `g`.\n",
    "    sb = \"b:\" + str(b) # This creates a string with the value of the variable `b`.\n",
    "    co = sr + \" \" + sg + \" \" + sb # This concatenates the three strings with a space in between.\n",
    "    cv2.putText(blac, sb, (150, 100), cv2.FONT_HERSHEY_SIMPLEX, 1, (b, 0, 0), 1) # This adds the text `sb` to the image `blac` at the position (150, 100) using the font `FONT_HERSHEY_SIMPLEX` with a font scale of 1 and a color (b, 0, 0) with a thickness of 1.\n",
    "    cv2.putText(blac, sg, (250, 100), cv2.FONT_HERSHEY_SIMPLEX, 1, (0, g, 0), 1) # This adds the text `sg` to the image `blac` at the position (250, 100) using the font `FONT_HERSHEY_SIMPLEX` with a font scale of 1 and a color (0, g, 0) with a thickness of 1.\n",
    "    cv2.putText(blac, sr, (350, 100), cv2.FONT_HERSHEY_SIMPLEX, 1, (0, 0, r), 1) # This adds the text `sr` to the image `blac` at the position (350, 100) using the font `FONT_HERSHEY_SIMPLEX` with a font scale of 1 and a color (0, 0, r) with a thickness of 1.\n",
    "    cv2.putText(blac, co, (100, 200), cv2.FONT_HERSHEY_SIMPLEX, 1, (b,g,r),1) # This adds the text `co` to the image `blac` at the position (100,200) using the font `FONT_HERSHEY_SIMPLEX` with a font scale of 1 and a color (b,g,r) with a thickness of 1.\n",
    "    cv2.rectangle(blac, (10, 10), (100, 100), (b, g, r), -1) # This draws a filled rectangle on the image `blac` with the top-left corner at (10, 10) and the bottom-right corner at (100, 100) using the color (b, g, r).\n",
    "    cv2.imshow(\"blac\", blac) # This displays the image `blac` in a window with the title \"blac\".\n",
    "    if cv2.waitKey(1) & 0xFF == ord(\"q\"): # This waits for a key event for 1 millisecond. If the key pressed is \"q\", the loop is exited.\n",
    "        break\n"
   ]
  },
  {
   "cell_type": "code",
   "execution_count": null,
   "metadata": {},
   "outputs": [],
   "source": [
    "cv2.destroyAllWindows() # This destroys all the windows created by OpenCV."
   ]
  }
 ],
 "metadata": {
  "kernelspec": {
   "display_name": "Python 3",
   "language": "python",
   "name": "python3"
  },
  "language_info": {
   "codemirror_mode": {
    "name": "ipython",
    "version": 3
   },
   "file_extension": ".py",
   "mimetype": "text/x-python",
   "name": "python",
   "nbconvert_exporter": "python",
   "pygments_lexer": "ipython3",
   "version": "3.11.0"
  },
  "orig_nbformat": 4
 },
 "nbformat": 4,
 "nbformat_minor": 2
}
